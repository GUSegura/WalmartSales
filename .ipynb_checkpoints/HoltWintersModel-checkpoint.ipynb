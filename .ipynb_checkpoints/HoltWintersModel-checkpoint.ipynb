{
 "cells": [
  {
   "cell_type": "markdown",
   "metadata": {},
   "source": [
    "##  Data Vizualization"
   ]
  },
  {
   "cell_type": "code",
   "execution_count": 1,
   "metadata": {},
   "outputs": [],
   "source": [
    "import pandas as pd\n",
    "import numpy as np\n",
    "import matplotlib.pyplot as plt"
   ]
  },
  {
   "cell_type": "code",
   "execution_count": 2,
   "metadata": {},
   "outputs": [],
   "source": [
    "train = pd.read_csv(\"/Users/gsegura/Desktop/WalmartSales/train.csv\")\n",
    "test = pd.read_csv(\"/Users/gsegura/Desktop/WalmartSales/test.csv\")"
   ]
  },
  {
   "cell_type": "code",
   "execution_count": 17,
   "metadata": {},
   "outputs": [
    {
     "data": {
      "text/html": [
       "<div>\n",
       "<style scoped>\n",
       "    .dataframe tbody tr th:only-of-type {\n",
       "        vertical-align: middle;\n",
       "    }\n",
       "\n",
       "    .dataframe tbody tr th {\n",
       "        vertical-align: top;\n",
       "    }\n",
       "\n",
       "    .dataframe thead th {\n",
       "        text-align: right;\n",
       "    }\n",
       "</style>\n",
       "<table border=\"1\" class=\"dataframe\">\n",
       "  <thead>\n",
       "    <tr style=\"text-align: right;\">\n",
       "      <th></th>\n",
       "      <th>Store</th>\n",
       "      <th>Dept</th>\n",
       "      <th>Date</th>\n",
       "      <th>Weekly_Sales</th>\n",
       "      <th>IsHoliday</th>\n",
       "    </tr>\n",
       "  </thead>\n",
       "  <tbody>\n",
       "    <tr>\n",
       "      <th>0</th>\n",
       "      <td>1</td>\n",
       "      <td>1</td>\n",
       "      <td>2010-02-05</td>\n",
       "      <td>24924.50</td>\n",
       "      <td>False</td>\n",
       "    </tr>\n",
       "    <tr>\n",
       "      <th>1</th>\n",
       "      <td>1</td>\n",
       "      <td>1</td>\n",
       "      <td>2010-02-12</td>\n",
       "      <td>46039.49</td>\n",
       "      <td>True</td>\n",
       "    </tr>\n",
       "    <tr>\n",
       "      <th>2</th>\n",
       "      <td>1</td>\n",
       "      <td>1</td>\n",
       "      <td>2010-02-19</td>\n",
       "      <td>41595.55</td>\n",
       "      <td>False</td>\n",
       "    </tr>\n",
       "    <tr>\n",
       "      <th>3</th>\n",
       "      <td>1</td>\n",
       "      <td>1</td>\n",
       "      <td>2010-02-26</td>\n",
       "      <td>19403.54</td>\n",
       "      <td>False</td>\n",
       "    </tr>\n",
       "    <tr>\n",
       "      <th>4</th>\n",
       "      <td>1</td>\n",
       "      <td>1</td>\n",
       "      <td>2010-03-05</td>\n",
       "      <td>21827.90</td>\n",
       "      <td>False</td>\n",
       "    </tr>\n",
       "  </tbody>\n",
       "</table>\n",
       "</div>"
      ],
      "text/plain": [
       "   Store  Dept        Date  Weekly_Sales  IsHoliday\n",
       "0      1     1  2010-02-05      24924.50      False\n",
       "1      1     1  2010-02-12      46039.49       True\n",
       "2      1     1  2010-02-19      41595.55      False\n",
       "3      1     1  2010-02-26      19403.54      False\n",
       "4      1     1  2010-03-05      21827.90      False"
      ]
     },
     "execution_count": 17,
     "metadata": {},
     "output_type": "execute_result"
    }
   ],
   "source": [
    "train.head()"
   ]
  },
  {
   "cell_type": "code",
   "execution_count": 18,
   "metadata": {},
   "outputs": [],
   "source": [
    "df = train.copy()"
   ]
  },
  {
   "cell_type": "markdown",
   "metadata": {},
   "source": [
    "### Dept Specific Sales Over Time"
   ]
  },
  {
   "cell_type": "code",
   "execution_count": 23,
   "metadata": {},
   "outputs": [
    {
     "name": "stdout",
     "output_type": "stream",
     "text": [
      "Store  Dept\n",
      "1      1       3219405.18\n",
      "       2       6592598.93\n",
      "       3       1880518.36\n",
      "       4       5285874.09\n",
      "       5       3468885.58\n",
      "       6        686654.56\n",
      "       7       3513007.70\n",
      "       8       5107710.84\n",
      "       9       4012873.47\n",
      "       10      4437774.25\n",
      "       11      3563455.70\n",
      "       12      1511015.98\n",
      "       13      5533081.91\n",
      "       14      2183402.78\n",
      "       16      3453601.77\n",
      "       17      1315107.78\n",
      "       18       877479.40\n",
      "       19       180039.65\n",
      "       20       585094.73\n",
      "       21      1116608.43\n",
      "       22      1151446.89\n",
      "       23      3092115.41\n",
      "       24       884796.73\n",
      "       25      1451784.16\n",
      "       26       967823.61\n",
      "       27       196574.90\n",
      "       28        84815.30\n",
      "       29       665098.75\n",
      "       30       488387.19\n",
      "       31       344420.26\n",
      "                  ...    \n",
      "45     51          104.52\n",
      "       52       209675.92\n",
      "       54         5784.62\n",
      "       55       870254.51\n",
      "       56       519397.43\n",
      "       58       241179.85\n",
      "       59        85912.45\n",
      "       60        25313.20\n",
      "       67       972546.81\n",
      "       71       628686.82\n",
      "       72      5357682.10\n",
      "       74      1531547.32\n",
      "       77         1525.96\n",
      "       78           88.00\n",
      "       79      2180038.31\n",
      "       80        72622.47\n",
      "       81      2095392.73\n",
      "       82      1920560.27\n",
      "       83       117915.34\n",
      "       85       286197.78\n",
      "       87       901911.85\n",
      "       90      3385387.04\n",
      "       91      2379795.61\n",
      "       92      6882003.38\n",
      "       93       390193.68\n",
      "       94       494496.46\n",
      "       95      7564151.83\n",
      "       96            5.94\n",
      "       97       924775.55\n",
      "       98        75767.27\n",
      "Name: Weekly_Sales, Length: 3331, dtype: float64\n"
     ]
    }
   ],
   "source": [
    "df.groupby(['Store', 'Dept'])[\"Weekly_Sales\"].sum()\n",
    "#    .sum()\n",
    "#    .unstack('What', fill_value=0)\n",
    "#    .plot())\n",
    "# plt.show()"
   ]
  },
  {
   "cell_type": "code",
   "execution_count": 11,
   "metadata": {},
   "outputs": [
    {
     "data": {
      "text/plain": [
       "[<matplotlib.lines.Line2D at 0x1182063c8>]"
      ]
     },
     "execution_count": 11,
     "metadata": {},
     "output_type": "execute_result"
    },
    {
     "data": {
      "image/png": "[encoded data removed]",
      "text/plain": [
       "<Figure size 432x288 with 1 Axes>"
      ]
     },
     "metadata": {
      "needs_background": "light"
     },
     "output_type": "display_data"
    }
   ],
   "source": [
    "# df = df.sort_values('Date', ascending=True)\n",
    "# plt.plot(df['Date'], df['Weekly_Sales'])"
   ]
  },
  {
   "cell_type": "code",
   "execution_count": null,
   "metadata": {},
   "outputs": [],
   "source": []
  },
  {
   "cell_type": "markdown",
   "metadata": {},
   "source": [
    "#### Dat"
   ]
  }
 ],
 "metadata": {
  "kernelspec": {
   "display_name": "Python 3",
   "language": "python",
   "name": "python3"
  },
  "language_info": {
   "codemirror_mode": {
    "name": "ipython",
    "version": 3
   },
   "file_extension": ".py",
   "mimetype": "text/x-python",
   "name": "python",
   "nbconvert_exporter": "python",
   "pygments_lexer": "ipython3",
   "version": "3.7.3"
  }
 },
 "nbformat": 4,
 "nbformat_minor": 2
}
